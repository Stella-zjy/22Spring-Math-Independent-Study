{
 "cells": [
  {
   "cell_type": "markdown",
   "id": "a34c6334",
   "metadata": {},
   "source": [
    "# 1D Diffusion Simulation"
   ]
  },
  {
   "cell_type": "code",
   "execution_count": 1,
   "id": "4d7ab5ea",
   "metadata": {},
   "outputs": [],
   "source": [
    "import matplotlib.pyplot as plt\n",
    "import random"
   ]
  },
  {
   "cell_type": "markdown",
   "id": "15d32496",
   "metadata": {},
   "source": [
    "N: population \\\n",
    "Pop: positions of the population (Pop is an array of length N recording the position of every individual) \\\n",
    "L: number of intervals (we devide the 1D space into L intervals) \\\n",
    "T: total timestamps \\\n",
    "PlotPerT: display the distribution plot every PlotPerT \\\n",
    "D: density (D is an array of length L where $D[i]$ shows the population in interval i) "
   ]
  },
  {
   "cell_type": "code",
   "execution_count": 2,
   "id": "845612de",
   "metadata": {},
   "outputs": [],
   "source": [
    "N = 10000\n",
    "L =  21 # For convenience, the initial state is all the population stay in the middle interval\n",
    "Pop = [L//2 for i in range(N)]\n",
    "T = 500\n",
    "PlotPerT = 100"
   ]
  },
  {
   "cell_type": "code",
   "execution_count": 3,
   "id": "80d32091",
   "metadata": {},
   "outputs": [],
   "source": [
    "# Plot the current density\n",
    "def DensityPlot(D):\n",
    "    plt.bar(range(len(D)),D)\n",
    "    plt.show()\n",
    "    return"
   ]
  },
  {
   "cell_type": "code",
   "execution_count": 4,
   "id": "d987b3a6",
   "metadata": {},
   "outputs": [],
   "source": [
    "# Boundary Check Functions\n",
    "\n",
    "# the leftmost go left is the rightmost, the rightmost go right is the leftmost\n",
    "def periodic_boundary(pos, L):\n",
    "    if pos<0:\n",
    "        return L-1\n",
    "    elif pos == L:\n",
    "        return 0\n",
    "    return pos\n",
    "\n",
    "# the leftmost go left or the rightmost go right => stay at the boundary for this timestamp\n",
    "def reflective_boundary(pos, L):\n",
    "    if pos<0:\n",
    "        return 0\n",
    "    elif pos == L:\n",
    "        return L-1\n",
    "    return pos"
   ]
  },
  {
   "cell_type": "code",
   "execution_count": 5,
   "id": "a569712e",
   "metadata": {},
   "outputs": [],
   "source": [
    "# Monte Carlo Simulation of the random motion of individuals\n",
    "# Input: current positions\n",
    "# Output: the new positions at the next timestamp\n",
    "def RandomWalk(Pop, L):\n",
    "    for i in range(len(Pop)):\n",
    "        rand_move = random.random()\n",
    "        # Left\n",
    "        if rand_move < 0.25:\n",
    "            Pop[i] -= 1\n",
    "        # Right\n",
    "        elif rand_move < 0.5:\n",
    "            Pop[i] += 1\n",
    "        # Stay\n",
    "        else:\n",
    "            Pop[i] += 0\n",
    "        Pop[i] = periodic_boundary(Pop[i], L)\n",
    "    return Pop   "
   ]
  },
  {
   "cell_type": "code",
   "execution_count": 6,
   "id": "ff878a36",
   "metadata": {},
   "outputs": [],
   "source": [
    "def DiffusionSimulation(L, Pop, T, PlotPerT):\n",
    "    for t in range(T):\n",
    "        # For every time stamp, we first calculate the current density\n",
    "        D = [0 for i in range(L)]\n",
    "        for x in Pop:\n",
    "            D[x] += 1\n",
    "        # Plot the distribution\n",
    "        if t in range(10) or t%PlotPerT == 0:\n",
    "            print('Timestamp:',t)\n",
    "            DensityPlot(D)\n",
    "        # Perform random movement\n",
    "        Pop = RandomWalk(Pop, L) \n",
    "        \n",
    "    print('Timestamp:', T)\n",
    "    DensityPlot(D)"
   ]
  },
  {
   "cell_type": "code",
   "execution_count": 7,
   "id": "f6a2c88f",
   "metadata": {},
   "outputs": [
    {
     "name": "stdout",
     "output_type": "stream",
     "text": [
      "Timestamp: 0\n"
     ]
    },
    {
     "data": {
      "image/png": "[encoded data removed]",
      "text/plain": [
       "<Figure size 432x288 with 1 Axes>"
      ]
     },
     "metadata": {
      "needs_background": "light"
     },
     "output_type": "display_data"
    },
    {
     "name": "stdout",
     "output_type": "stream",
     "text": [
      "Timestamp: 1\n"
     ]
    },
    {
     "data": {
      "image/png": "[encoded data removed]",
      "text/plain": [
       "<Figure size 432x288 with 1 Axes>"
      ]
     },
     "metadata": {
      "needs_background": "light"
     },
     "output_type": "display_data"
    },
    {
     "name": "stdout",
     "output_type": "stream",
     "text": [
      "Timestamp: 2\n"
     ]
    },
    {
     "data": {
      "image/png": "[encoded data removed]",
      "text/plain": [
       "<Figure size 432x288 with 1 Axes>"
      ]
     },
     "metadata": {
      "needs_background": "light"
     },
     "output_type": "display_data"
    },
    {
     "name": "stdout",
     "output_type": "stream",
     "text": [
      "Timestamp: 3\n"
     ]
    },
    {
     "data": {
      "image/png": "[encoded data removed]",
      "text/plain": [
       "<Figure size 432x288 with 1 Axes>"
      ]
     },
     "metadata": {
      "needs_background": "light"
     },
     "output_type": "display_data"
    },
    {
     "name": "stdout",
     "output_type": "stream",
     "text": [
      "Timestamp: 4\n"
     ]
    },
    {
     "data": {
      "image/png": "[encoded data removed]",
      "text/plain": [
       "<Figure size 432x288 with 1 Axes>"
      ]
     },
     "metadata": {
      "needs_background": "light"
     },
     "output_type": "display_data"
    },
    {
     "name": "stdout",
     "output_type": "stream",
     "text": [
      "Timestamp: 5\n"
     ]
    },
    {
     "data": {
      "image/png": "[encoded data removed]",
      "text/plain": [
       "<Figure size 432x288 with 1 Axes>"
      ]
     },
     "metadata": {
      "needs_background": "light"
     },
     "output_type": "display_data"
    },
    {
     "name": "stdout",
     "output_type": "stream",
     "text": [
      "Timestamp: 6\n"
     ]
    },
    {
     "data": {
      "image/png": "[encoded data removed]",
      "text/plain": [
       "<Figure size 432x288 with 1 Axes>"
      ]
     },
     "metadata": {
      "needs_background": "light"
     },
     "output_type": "display_data"
    },
    {
     "name": "stdout",
     "output_type": "stream",
     "text": [
      "Timestamp: 7\n"
     ]
    },
    {
     "data": {
      "image/png": "[encoded data removed]",
      "text/plain": [
       "<Figure size 432x288 with 1 Axes>"
      ]
     },
     "metadata": {
      "needs_background": "light"
     },
     "output_type": "display_data"
    },
    {
     "name": "stdout",
     "output_type": "stream",
     "text": [
      "Timestamp: 8\n"
     ]
    },
    {
     "data": {
      "image/png": "[encoded data removed]",
      "text/plain": [
       "<Figure size 432x288 with 1 Axes>"
      ]
     },
     "metadata": {
      "needs_background": "light"
     },
     "output_type": "display_data"
    },
    {
     "name": "stdout",
     "output_type": "stream",
     "text": [
      "Timestamp: 9\n"
     ]
    },
    {
     "data": {
      "image/png": "[encoded data removed]",
      "text/plain": [
       "<Figure size 432x288 with 1 Axes>"
      ]
     },
     "metadata": {
      "needs_background": "light"
     },
     "output_type": "display_data"
    },
    {
     "name": "stdout",
     "output_type": "stream",
     "text": [
      "Timestamp: 100\n"
     ]
    },
    {
     "data": {
      "image/png": "[encoded data removed]",
      "text/plain": [
       "<Figure size 432x288 with 1 Axes>"
      ]
     },
     "metadata": {
      "needs_background": "light"
     },
     "output_type": "display_data"
    },
    {
     "name": "stdout",
     "output_type": "stream",
     "text": [
      "Timestamp: 200\n"
     ]
    },
    {
     "data": {
      "image/png": "[encoded data removed]",
      "text/plain": [
       "<Figure size 432x288 with 1 Axes>"
      ]
     },
     "metadata": {
      "needs_background": "light"
     },
     "output_type": "display_data"
    },
    {
     "name": "stdout",
     "output_type": "stream",
     "text": [
      "Timestamp: 300\n"
     ]
    },
    {
     "data": {
      "image/png": "[encoded data removed]",
      "text/plain": [
       "<Figure size 432x288 with 1 Axes>"
      ]
     },
     "metadata": {
      "needs_background": "light"
     },
     "output_type": "display_data"
    },
    {
     "name": "stdout",
     "output_type": "stream",
     "text": [
      "Timestamp: 400\n"
     ]
    },
    {
     "data": {
      "image/png": "[encoded data removed]",
      "text/plain": [
       "<Figure size 432x288 with 1 Axes>"
      ]
     },
     "metadata": {
      "needs_background": "light"
     },
     "output_type": "display_data"
    },
    {
     "name": "stdout",
     "output_type": "stream",
     "text": [
      "Timestamp: 500\n"
     ]
    },
    {
     "data": {
      "image/png": "[encoded data removed]",
      "text/plain": [
       "<Figure size 432x288 with 1 Axes>"
      ]
     },
     "metadata": {
      "needs_background": "light"
     },
     "output_type": "display_data"
    }
   ],
   "source": [
    "DiffusionSimulation(L, Pop, T, PlotPerT)"
   ]
  },
  {
   "cell_type": "code",
   "execution_count": null,
   "id": "76a2ac25",
   "metadata": {},
   "outputs": [],
   "source": []
  }
 ],
 "metadata": {
  "kernelspec": {
   "display_name": "Python 3",
   "language": "python",
   "name": "python3"
  },
  "language_info": {
   "codemirror_mode": {
    "name": "ipython",
    "version": 3
   },
   "file_extension": ".py",
   "mimetype": "text/x-python",
   "name": "python",
   "nbconvert_exporter": "python",
   "pygments_lexer": "ipython3",
   "version": "3.7.6"
  }
 },
 "nbformat": 4,
 "nbformat_minor": 5
}
